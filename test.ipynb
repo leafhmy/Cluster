{
 "cells": [
  {
   "cell_type": "code",
   "execution_count": 1,
   "metadata": {},
   "outputs": [],
   "source": [
    "import faiss\n",
    "from sklearn.datasets import load_iris\n",
    "import numpy as np"
   ]
  },
  {
   "cell_type": "code",
   "execution_count": 10,
   "metadata": {},
   "outputs": [],
   "source": [
    "def run_kmeans(x, nmb_clusters, verbose=False, use_gpu=False):\n",
    "    \"\"\"Runs kmeans on 1 GPU.\n",
    "    Args:\n",
    "        x: data\n",
    "        nmb_clusters (int): number of clusters\n",
    "    Returns:\n",
    "        list: ids of data in each cluster\n",
    "    \"\"\"\n",
    "    n_data, d = x.shape\n",
    "\n",
    "    # faiss implementation of k-means\n",
    "    clus = faiss.Clustering(d, nmb_clusters)\n",
    "\n",
    "    # Change faiss seed at each k-means so that the randomly picked\n",
    "    # initialization centroids do not correspond to the same feature ids\n",
    "    # from an epoch to another.\n",
    "    clus.seed = np.random.randint(1234)\n",
    "\n",
    "    clus.niter = 20\n",
    "    clus.max_points_per_centroid = 10000000\n",
    "    if use_gpu:\n",
    "        res = faiss.StandardGpuResources()\n",
    "        flat_config = faiss.GpuIndexFlatConfig()\n",
    "        flat_config.useFloat16 = False\n",
    "        flat_config.device = 0\n",
    "        index = faiss.GpuIndexFlatL2(res, d, flat_config)\n",
    "    else:\n",
    "        index = faiss.IndexFlatL2(d)\n",
    "\n",
    "    # perform the training\n",
    "    clus.train(x, index)\n",
    "#     return clus\n",
    "    _, I = index.search(x, 1)\n",
    "    \n",
    "    # compute distance\n",
    "    distance = []\n",
    "    centroids = faiss.vector_to_array(clus.centroids)\n",
    "    centroids = centroids.reshape(nmb_clusters, x.shape[1])\n",
    "    images_lists = [[] for i in range(nmb_clusters)]\n",
    "    for i in range(x.shape[0]):\n",
    "        images_lists[I[i]].append(i)\n",
    "    \n",
    "    for clu in images_lists:\n",
    "        for index in clu:\n",
    "            distance.append(compute_dis(clu, index, centroids))\n",
    "    \n",
    "    clus_index2dis = [(clus_index, dis) for clus_index, dis in zip(I, distance)]\n",
    "    \n",
    "    # losses = faiss.vector_to_array(clus.obj)  # this option was replaced. The fix is:\n",
    "    stats = clus.iteration_stats\n",
    "    losses = np.array([stats.at(i).obj for i in range(stats.size())])\n",
    "    if verbose:\n",
    "        print('k-means loss evolution: {0}'.format(losses))\n",
    "\n",
    "    return clus, clus_index2dis, losses[-1]"
   ]
  },
  {
   "cell_type": "code",
   "execution_count": 11,
   "metadata": {},
   "outputs": [],
   "source": [
    "def preprocess_features(npdata, pca=256):\n",
    "    \"\"\"Preprocess an array of features.\n",
    "    Args:\n",
    "        npdata (np.array N * ndim): features to preprocess\n",
    "        pca (int): dim of output\n",
    "    Returns:\n",
    "        np.array of dim N * pca: data PCA-reduced, whitened and L2-normalized\n",
    "    \"\"\"\n",
    "    _, ndim = npdata.shape\n",
    "    npdata =  npdata.astype('float32')\n",
    "\n",
    "#     # Apply PCA-whitening with Faiss\n",
    "#     mat = faiss.PCAMatrix (ndim, pca, eigen_power=-0.5)\n",
    "#     mat.train(npdata)\n",
    "#     assert mat.is_trained\n",
    "#     npdata = mat.apply_py(npdata)\n",
    "\n",
    "#     # L2 normalization\n",
    "#     row_sums = np.linalg.norm(npdata, axis=1)\n",
    "#     npdata = npdata / row_sums[:, np.newaxis]\n",
    "\n",
    "    return npdata\n"
   ]
  },
  {
   "cell_type": "code",
   "execution_count": 12,
   "metadata": {},
   "outputs": [],
   "source": [
    "from collections import Counter\n",
    "\n",
    "def accuracy(clu2index, path2label):\n",
    "    aux = [[] for i in range(len(clu2index))]\n",
    "    for i, clu in enumerate(clu2index):\n",
    "        for x_index in clu:\n",
    "            for index, label in enumerate(path2label):\n",
    "#             for index, (_, label) in enumerate(path2label):\n",
    "                if x_index == index:\n",
    "                    aux[i].append(label)\n",
    "\n",
    "    # clu_index2label = {k: 0 for k in range(len(clu2index))}\n",
    "    clu_index2label = np.empty(shape=(len(clu2index), len(clu2index)))\n",
    "    axis2times = []\n",
    "    for i, clu in enumerate(aux):\n",
    "        c = Counter(clu)\n",
    "        for k, v in c.items():\n",
    "            clu_index2label[i, k] = v  # 第i个类簇k出现了v次\n",
    "            axis2times.append(((i, k), v))\n",
    "\n",
    "    axis2times.sort(key=lambda v: v[1], reverse=True)\n",
    "    clu2label = {k: 0 for k in range(len(clu2index))}\n",
    "    flag1 = {k: False for k in range(len(clu2index))}\n",
    "    flag2 = {k: False for k in range(len(clu2index))}\n",
    "    for t in axis2times:\n",
    "        if t[1] > clu2label[t[0][0]]:\n",
    "            if flag1[t[0][1]] or flag2[t[0][0]]:\n",
    "                continue\n",
    "            clu2label[t[0][0]] = t[0][1]\n",
    "            flag1[t[0][1]] = True\n",
    "            flag2[t[0][0]] = True\n",
    "\n",
    "    correct = 0\n",
    "    for i, clu in enumerate(clu2index):\n",
    "        for index in clu:\n",
    "            if path2label[index] == clu2label[i]:\n",
    "                correct += 1\n",
    "\n",
    "    acc = correct / len(path2label)\n",
    "    print(f\"acc: {acc}\")"
   ]
  },
  {
   "cell_type": "code",
   "execution_count": 13,
   "metadata": {},
   "outputs": [],
   "source": [
    "iris = load_iris()\n",
    "X = iris[\"data\"]\n",
    "Y = iris[\"target\"]"
   ]
  },
  {
   "cell_type": "code",
   "execution_count": 14,
   "metadata": {},
   "outputs": [
    {
     "data": {
      "text/plain": [
       "(150, 4)"
      ]
     },
     "execution_count": 14,
     "metadata": {},
     "output_type": "execute_result"
    }
   ],
   "source": [
    "X.shape"
   ]
  },
  {
   "cell_type": "code",
   "execution_count": 15,
   "metadata": {},
   "outputs": [
    {
     "data": {
      "text/plain": [
       "(150,)"
      ]
     },
     "execution_count": 15,
     "metadata": {},
     "output_type": "execute_result"
    }
   ],
   "source": [
    "Y.shape"
   ]
  },
  {
   "cell_type": "code",
   "execution_count": 16,
   "metadata": {},
   "outputs": [],
   "source": [
    "X = preprocess_features(X)"
   ]
  },
  {
   "cell_type": "code",
   "execution_count": 17,
   "metadata": {},
   "outputs": [
    {
     "ename": "TypeError",
     "evalue": "only integer scalar arrays can be converted to a scalar index",
     "output_type": "error",
     "traceback": [
      "\u001b[1;31m---------------------------------------------------------------------------\u001b[0m",
      "\u001b[1;31mTypeError\u001b[0m                                 Traceback (most recent call last)",
      "\u001b[1;32m<ipython-input-17-6054d510c31e>\u001b[0m in \u001b[0;36m<module>\u001b[1;34m\u001b[0m\n\u001b[1;32m----> 1\u001b[1;33m \u001b[0mkmeans\u001b[0m\u001b[1;33m,\u001b[0m \u001b[0mclus_index2dis\u001b[0m\u001b[1;33m,\u001b[0m \u001b[0mloss\u001b[0m \u001b[1;33m=\u001b[0m \u001b[0mrun_kmeans\u001b[0m\u001b[1;33m(\u001b[0m\u001b[0mX\u001b[0m\u001b[1;33m,\u001b[0m \u001b[0mnmb_clusters\u001b[0m\u001b[1;33m=\u001b[0m\u001b[1;36m3\u001b[0m\u001b[1;33m,\u001b[0m \u001b[0mverbose\u001b[0m\u001b[1;33m=\u001b[0m\u001b[1;32mTrue\u001b[0m\u001b[1;33m)\u001b[0m\u001b[1;33m\u001b[0m\u001b[1;33m\u001b[0m\u001b[0m\n\u001b[0m",
      "\u001b[1;32m<ipython-input-10-c6d132815c5e>\u001b[0m in \u001b[0;36mrun_kmeans\u001b[1;34m(x, nmb_clusters, verbose, use_gpu)\u001b[0m\n\u001b[0;32m     39\u001b[0m     \u001b[0mimages_lists\u001b[0m \u001b[1;33m=\u001b[0m \u001b[1;33m[\u001b[0m\u001b[1;33m[\u001b[0m\u001b[1;33m]\u001b[0m \u001b[1;32mfor\u001b[0m \u001b[0mi\u001b[0m \u001b[1;32min\u001b[0m \u001b[0mrange\u001b[0m\u001b[1;33m(\u001b[0m\u001b[1;36m3\u001b[0m\u001b[1;33m)\u001b[0m\u001b[1;33m]\u001b[0m\u001b[1;33m\u001b[0m\u001b[1;33m\u001b[0m\u001b[0m\n\u001b[0;32m     40\u001b[0m     \u001b[1;32mfor\u001b[0m \u001b[0mi\u001b[0m \u001b[1;32min\u001b[0m \u001b[0mrange\u001b[0m\u001b[1;33m(\u001b[0m\u001b[0mx\u001b[0m\u001b[1;33m.\u001b[0m\u001b[0mshape\u001b[0m\u001b[1;33m[\u001b[0m\u001b[1;36m0\u001b[0m\u001b[1;33m]\u001b[0m\u001b[1;33m)\u001b[0m\u001b[1;33m:\u001b[0m\u001b[1;33m\u001b[0m\u001b[1;33m\u001b[0m\u001b[0m\n\u001b[1;32m---> 41\u001b[1;33m         \u001b[0mimages_lists\u001b[0m\u001b[1;33m[\u001b[0m\u001b[0mI\u001b[0m\u001b[1;33m[\u001b[0m\u001b[0mi\u001b[0m\u001b[1;33m]\u001b[0m\u001b[1;33m]\u001b[0m\u001b[1;33m.\u001b[0m\u001b[0mappend\u001b[0m\u001b[1;33m(\u001b[0m\u001b[0mi\u001b[0m\u001b[1;33m)\u001b[0m\u001b[1;33m\u001b[0m\u001b[1;33m\u001b[0m\u001b[0m\n\u001b[0m\u001b[0;32m     42\u001b[0m \u001b[1;33m\u001b[0m\u001b[0m\n\u001b[0;32m     43\u001b[0m     \u001b[1;32mfor\u001b[0m \u001b[0mclu\u001b[0m \u001b[1;32min\u001b[0m \u001b[0mimages_lists\u001b[0m\u001b[1;33m:\u001b[0m\u001b[1;33m\u001b[0m\u001b[1;33m\u001b[0m\u001b[0m\n",
      "\u001b[1;31mTypeError\u001b[0m: only integer scalar arrays can be converted to a scalar index"
     ]
    }
   ],
   "source": [
    "kmeans, clus_index2dis, loss = run_kmeans(X, nmb_clusters=3, verbose=True)"
   ]
  },
  {
   "cell_type": "code",
   "execution_count": null,
   "metadata": {},
   "outputs": [],
   "source": [
    "kmeans"
   ]
  },
  {
   "cell_type": "code",
   "execution_count": null,
   "metadata": {},
   "outputs": [],
   "source": [
    "centroids = faiss.vector_to_array(kmeans.centroids)"
   ]
  },
  {
   "cell_type": "code",
   "execution_count": null,
   "metadata": {},
   "outputs": [],
   "source": [
    "centroids.shape"
   ]
  },
  {
   "cell_type": "code",
   "execution_count": null,
   "metadata": {},
   "outputs": [],
   "source": [
    "centroids"
   ]
  },
  {
   "cell_type": "code",
   "execution_count": null,
   "metadata": {},
   "outputs": [],
   "source": [
    "centroids = centroids.reshape(3, 4)"
   ]
  },
  {
   "cell_type": "code",
   "execution_count": null,
   "metadata": {},
   "outputs": [],
   "source": [
    "centroids"
   ]
  },
  {
   "cell_type": "code",
   "execution_count": null,
   "metadata": {},
   "outputs": [],
   "source": [
    "images_lists = [[] for i in range(3)]\n",
    "for i in range(X.shape[0]):\n",
    "    images_lists[I[i]].append(i)"
   ]
  },
  {
   "cell_type": "code",
   "execution_count": null,
   "metadata": {},
   "outputs": [],
   "source": [
    "len(images_lists)"
   ]
  },
  {
   "cell_type": "code",
   "execution_count": null,
   "metadata": {},
   "outputs": [],
   "source": [
    "path2label = Y.tolist()"
   ]
  },
  {
   "cell_type": "markdown",
   "metadata": {},
   "source": [
    "## validate acc"
   ]
  },
  {
   "cell_type": "code",
   "execution_count": null,
   "metadata": {},
   "outputs": [],
   "source": [
    "accuracy(images_lists, path2label)"
   ]
  },
  {
   "cell_type": "markdown",
   "metadata": {},
   "source": [
    "## distance to centroids"
   ]
  },
  {
   "cell_type": "code",
   "execution_count": null,
   "metadata": {},
   "outputs": [],
   "source": [
    "# doubt\n",
    "distance.shape"
   ]
  },
  {
   "cell_type": "code",
   "execution_count": null,
   "metadata": {},
   "outputs": [],
   "source": [
    "centroids"
   ]
  },
  {
   "cell_type": "code",
   "execution_count": null,
   "metadata": {},
   "outputs": [],
   "source": [
    "centroids.shape"
   ]
  },
  {
   "cell_type": "code",
   "execution_count": null,
   "metadata": {},
   "outputs": [],
   "source": [
    "X.shape"
   ]
  },
  {
   "cell_type": "code",
   "execution_count": null,
   "metadata": {},
   "outputs": [],
   "source": [
    "images_lists"
   ]
  },
  {
   "cell_type": "code",
   "execution_count": null,
   "metadata": {},
   "outputs": [],
   "source": [
    "X"
   ]
  },
  {
   "cell_type": "code",
   "execution_count": null,
   "metadata": {},
   "outputs": [],
   "source": [
    "X[0]"
   ]
  },
  {
   "cell_type": "code",
   "execution_count": null,
   "metadata": {},
   "outputs": [],
   "source": [
    "centroids"
   ]
  },
  {
   "cell_type": "code",
   "execution_count": null,
   "metadata": {},
   "outputs": [],
   "source": [
    "centroids[0]"
   ]
  },
  {
   "cell_type": "code",
   "execution_count": null,
   "metadata": {},
   "outputs": [],
   "source": [
    "def compute_dis(clu_index, path_index, centroids):\n",
    "    feature = X[path_index]\n",
    "    clu_centroid = centroids[clu_index]\n",
    "    dis = np.linalg.norm(feature - clu_centroid)\n",
    "    return dis"
   ]
  },
  {
   "cell_type": "code",
   "execution_count": null,
   "metadata": {},
   "outputs": [],
   "source": [
    "compute_dis(0, images_lists[0][0], centroids)"
   ]
  },
  {
   "cell_type": "code",
   "execution_count": null,
   "metadata": {},
   "outputs": [],
   "source": []
  }
 ],
 "metadata": {
  "kernelspec": {
   "display_name": "pytorch",
   "language": "python",
   "name": "pytorch"
  },
  "language_info": {
   "codemirror_mode": {
    "name": "ipython",
    "version": 3
   },
   "file_extension": ".py",
   "mimetype": "text/x-python",
   "name": "python",
   "nbconvert_exporter": "python",
   "pygments_lexer": "ipython3",
   "version": "3.7.8"
  }
 },
 "nbformat": 4,
 "nbformat_minor": 4
}
